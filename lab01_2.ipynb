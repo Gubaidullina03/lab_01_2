{
  "nbformat": 4,
  "nbformat_minor": 0,
  "metadata": {
    "colab": {
      "provenance": []
    },
    "kernelspec": {
      "name": "python3",
      "display_name": "Python 3"
    },
    "language_info": {
      "name": "python"
    }
  },
  "cells": [
    {
      "cell_type": "code",
      "execution_count": null,
      "metadata": {
        "colab": {
          "base_uri": "https://localhost:8080/"
        },
        "id": "wdMO28IKmMGb",
        "outputId": "429cfca8-7dc2-40ef-bc72-6f186c515231"
      },
      "outputs": [
        {
          "output_type": "stream",
          "name": "stdout",
          "text": [
            "10\n",
            "103.16\n"
          ]
        }
      ],
      "source": [
        "# Задание task_01_2_01.\n",
        "\n",
        "# Выполнила: Губайдуллина А. И.\n",
        "# Группа: АБП-231\n",
        "\n",
        "\n",
        "\n",
        "x = int(input())\n",
        "\n",
        "if x >= 0:\n",
        "    f = x ** (1/2) + x ** 2\n",
        "else:\n",
        "    f = 1 / x\n",
        "\n",
        "print(round(f, 2))\n"
      ]
    },
    {
      "cell_type": "code",
      "source": [
        "# Задание task_01_2_02.\n",
        "#\n",
        "# Выполнил: Губайдуллина А. И.\n",
        "# Группа: АБП-231\n",
        "\n",
        "\n",
        "a1 = int(input())\n",
        "a2 = int(input())\n",
        "\n",
        "# Переменная 'a_min' должна содержать минимум, 'a_max' - максимум\n",
        "\n",
        "if a1 == a2:\n",
        "    print(\"Числа равны! Пожалуйста, введите различные числа.\")\n",
        "else:\n",
        "    maximum = max(a1, a2)\n",
        "    minimum = min(a1, a2)\n",
        "    print(f\"Максимальное значение: {maximum}\")\n",
        "    print(f\"Минимальное значение: {minimum}\")\n",
        "\n"
      ],
      "metadata": {
        "colab": {
          "base_uri": "https://localhost:8080/"
        },
        "id": "ulfxWRgZtGiD",
        "outputId": "485b5fae-1314-455d-b12e-7673096b45c7"
      },
      "execution_count": null,
      "outputs": [
        {
          "output_type": "stream",
          "name": "stdout",
          "text": [
            "1\n",
            "2\n",
            "Максимальное значение: 2\n",
            "Минимальное значение: 1\n"
          ]
        }
      ]
    },
    {
      "cell_type": "code",
      "source": [
        "# Задание task_01_2_03.\n",
        "#\n",
        "# Выполнил: Губайдуллина А. И.\n",
        "# Группа: АБП-231\n",
        "\n",
        "a = int(input(\"Введите длину форточки: \"))\n",
        "b = int(input(\"Введите ширину форточки: \"))\n",
        "d = int(input(\"Введите диаметр головы: \"))\n",
        "\n",
        "# Введенные числа должны быть положительными, если так - осуществляем\n",
        "# расчет, иначе выводим \"Проверьте ввод\"\n",
        "\n",
        "fix = 1  # Зазор\n",
        "if min(a, b) - 2 * fix >= d:\n",
        "\n",
        "  # Вывести \"Да\" или \"Нет\"\n",
        "  print(\"Да\")\n",
        "    # Удалите комментарий и допишите код\n",
        "else:\n",
        "   print(\"Нет\")\n",
        "    # Удалите комментарий и допишите код\n"
      ],
      "metadata": {
        "colab": {
          "base_uri": "https://localhost:8080/"
        },
        "id": "9eCbnMwhumF7",
        "outputId": "a97c33ed-dfe7-43da-87c0-0f403b01f409"
      },
      "execution_count": null,
      "outputs": [
        {
          "output_type": "stream",
          "name": "stdout",
          "text": [
            "Введите длину форточки: 5\n",
            "Введите ширину форточки: 6\n",
            "Введите диаметр головы: 6\n",
            "Нет\n"
          ]
        }
      ]
    },
    {
      "cell_type": "code",
      "source": [
        "# Задание task_01_2_04.\n",
        "#\n",
        "# Выполнил: Губайдуллина А. И.\n",
        "# Группа: АБП-231\n",
        "\n",
        "year_today = int(input(\"Введите год сегодняшнего дня: \"))\n",
        "month_today = int(input(\"Введите месяц сегодняшнего дня: \"))\n",
        "\n",
        "year = int(input(\"Введите год рождения человека: \"))\n",
        "month = int(input(\"Введите месяц рождения человека: \"))\n",
        "\n",
        "# Считается, введенные значения находятся в допустимых пределах,и\n",
        "# что 'month_today' >= 'month' (проверять значения не нужно)\n",
        "\n",
        "if month_today >= month:\n",
        "\n",
        "\n",
        "# Результат необходимо записать в переменную 'age'\n",
        "  age = (year_today - year, month_today - month)\n",
        "# Удалите комментарий и допишите код\n",
        "\n",
        "print(\"Число полных лет: \", age)"
      ],
      "metadata": {
        "colab": {
          "base_uri": "https://localhost:8080/"
        },
        "id": "FZCgZ5xXyTeA",
        "outputId": "4536f291-0555-42ba-c59c-36dd00cea5d0"
      },
      "execution_count": null,
      "outputs": [
        {
          "output_type": "stream",
          "name": "stdout",
          "text": [
            "Введите год сегодняшнего дня: 2025\n",
            "Введите месяц сегодняшнего дня: 9\n",
            "Введите год рождения человека: 2005\n",
            "Введите месяц рождения человека: 9\n",
            "Число полных лет:  (20, 0)\n"
          ]
        }
      ]
    },
    {
      "cell_type": "code",
      "source": [
        "# Задание task_01_2_05.\n",
        "#\n",
        "# Выполнил: Губайдуллина А. И.\n",
        "# Группа: АБП-231\n",
        "\n",
        "x = int(input(\"Введите координату х: \"))\n",
        "y = int(input(\"Введите координату y: \"))\n",
        "\n",
        "if x > 0 and y > 0:\n",
        "  print(\"1-я четверть\")\n",
        "\n",
        "elif x > 0 and y < 0:\n",
        "  print(\"4-я четверть\")\n",
        "\n",
        "elif x < 0 and y > 0:\n",
        "  print(\"2-я четверть\")\n",
        "\n",
        "elif x < 0 and y < 0:\n",
        "  print(\"3-я четверть\")\n",
        "\n"
      ],
      "metadata": {
        "colab": {
          "base_uri": "https://localhost:8080/"
        },
        "id": "MtKY2TTt0c-j",
        "outputId": "43626040-b9f6-4da5-ebc2-f0a980660856"
      },
      "execution_count": null,
      "outputs": [
        {
          "output_type": "stream",
          "name": "stdout",
          "text": [
            "Введите координату х: 5\n",
            "Введите координату y: 7\n",
            "1-я четверть\n"
          ]
        }
      ]
    },
    {
      "cell_type": "code",
      "source": [
        "# Задание task_01_2_06.\n",
        "#\n",
        "# Выполнил: Губайдуллина А. И.\n",
        "# Группа: АБП-231\n",
        "\n",
        "import math\n",
        "\n",
        "a = int(input(\"Введите число а: \"))\n",
        "b = int(input(\"Введите число b: \"))\n",
        "c = int(input(\"Введите число c: \"))\n",
        "\n",
        "if a == 0:\n",
        "  print(\"Ошибка: коэффициент а не может быть равен 0\")\n",
        "\n",
        "# Расчет дискриминанта\n",
        "\n",
        "else:\n",
        "  D = b ** 2 - 4 * a * c\n",
        "\n",
        "# Вывод решения в зависимости от значения дискриминанта\n",
        "if D > 0:\n",
        "        # Два различных корня\n",
        "        x1 = (-b + math.sqrt(D)) / (2*a)\n",
        "        x2 = (-b - math.sqrt(D)) / (2*a)\n",
        "        print(\"x1 =\", round(x1, 1))\n",
        "        print(\"x2 =\", round(x2, 1))\n",
        "elif D == 0:\n",
        "        # Один корень (двукратный)\n",
        "        x = -b / (2*a)\n",
        "        print(\"x =\", round(x, 1))\n",
        "else:\n",
        "        # Действительных корней нет\n",
        "        print(\"Нет действительных корней\")\n",
        "\n"
      ],
      "metadata": {
        "colab": {
          "base_uri": "https://localhost:8080/"
        },
        "id": "UWlC4xnN2eUC",
        "outputId": "9f7f6822-947c-4bca-df5b-1b1f39bec718"
      },
      "execution_count": null,
      "outputs": [
        {
          "output_type": "stream",
          "name": "stdout",
          "text": [
            "Введите число а: 1\n",
            "Введите число b: 2\n",
            "Введите число c: 1\n",
            "x = -1.0\n"
          ]
        }
      ]
    },
    {
      "cell_type": "code",
      "source": [
        "# Задание task_01_2_07.\n",
        "#\n",
        "# Выполнил: Губайдуллина А. И.\n",
        "# Группа: АБП-231\n",
        "\n",
        "nums_sum = 0  # сумма\n",
        "nums_count = 0  # количество\n",
        "\n",
        "x = int(input(\"Введите число(0 для завершения): \"))\n",
        "while x != 0:\n",
        "    nums_sum += x\n",
        "    nums_count += 1\n",
        "\n",
        "    x = int(input(\"Введите число(0 для завершения): \"))\n",
        "\n",
        "print(\"Сумма введенных чисел: \", nums_sum)\n",
        "\n",
        "print(\"Количество введенных чисел: \", nums_count)\n"
      ],
      "metadata": {
        "colab": {
          "base_uri": "https://localhost:8080/"
        },
        "id": "VWMdePollcRx",
        "outputId": "c9ddd82b-1453-4a2f-9f85-e9243db15f5a"
      },
      "execution_count": 1,
      "outputs": [
        {
          "output_type": "stream",
          "name": "stdout",
          "text": [
            "Введите число(0 для завершения): 1\n",
            "Введите число(0 для завершения): 2\n",
            "Введите число(0 для завершения): 3\n",
            "Введите число(0 для завершения): 4\n",
            "Введите число(0 для завершения): 0\n",
            "Сумма введенных чисел:  10\n",
            "Количество введенных чисел:  4\n"
          ]
        }
      ]
    },
    {
      "cell_type": "code",
      "source": [
        "# Задание task_01_2_08.\n",
        "#\n",
        "# Выполнил: Губайдуллина А. И.\n",
        "# Группа: АБП-231\n",
        "\n",
        "n = int(input(\"Введите число: \"))\n",
        "\n",
        "# Первый вариант: с помощью цикла while\n",
        "print(\"Числа из последовательности 0,5,10,15,... которые не превышают\", n)\n",
        "current = 0\n",
        "while current <= n:\n",
        "    print(current)\n",
        "    current += 5\n"
      ],
      "metadata": {
        "colab": {
          "base_uri": "https://localhost:8080/"
        },
        "id": "hum7B84tnVUZ",
        "outputId": "38317e01-ec2d-4629-e1ca-13e868bc4f54"
      },
      "execution_count": 2,
      "outputs": [
        {
          "output_type": "stream",
          "name": "stdout",
          "text": [
            "Введите число: 18\n",
            "Числа из последовательности 0,5,10,15,... которые не превышают 18\n",
            "0\n",
            "5\n",
            "10\n",
            "15\n"
          ]
        }
      ]
    },
    {
      "cell_type": "code",
      "source": [
        "# Задание task_01_2_09.\n",
        "#\n",
        "# Выполнил: Губайдуллина А. И.\n",
        "# Группа: АБП-231\n",
        "\n",
        "a = float(input(\"Введите число а: \"))\n",
        "\n",
        "n = 1\n",
        "x_sum = 0.0\n",
        "\n",
        "while x_sum <= a:\n",
        "    x_sum += 1 / n\n",
        "    n += 1\n",
        "\n",
        "print(\"Наименьшее натуральное n:\", n - 1)"
      ],
      "metadata": {
        "colab": {
          "base_uri": "https://localhost:8080/"
        },
        "id": "br-z56rVoKXW",
        "outputId": "c30fcce1-ca39-41b1-fbfd-8e9e9c19d090"
      },
      "execution_count": 4,
      "outputs": [
        {
          "output_type": "stream",
          "name": "stdout",
          "text": [
            "Введите число а: 1.5\n",
            "Наименьшее натуральное n: 3\n"
          ]
        }
      ]
    },
    {
      "cell_type": "code",
      "source": [
        "# Задание task_01_2_10.\n",
        "#\n",
        "# Выполнил: Губайдуллина А. И.\n",
        "# Группа: АБП-231\n",
        "\n",
        "n = int(input(\"Введите число: \"))\n",
        "\n",
        "n_sum = 0\n",
        "n_count = 0\n",
        "\n",
        "temp = n\n",
        "if temp == 0:\n",
        "  n_sum = 0\n",
        "  n_count = 1\n",
        "\n",
        "else:\n",
        "  while temp > 0:\n",
        "    posl = temp % 10\n",
        "    n_sum += posl\n",
        "    n_count += 1\n",
        "\n",
        "    temp //= 10\n",
        "\n",
        "print(f\"Число: {n}\")\n",
        "print(f\"Сумма цифр: {n_sum}\")\n",
        "print(f\"Количество цифр: {n_count}\")\n"
      ],
      "metadata": {
        "colab": {
          "base_uri": "https://localhost:8080/"
        },
        "id": "I6dt1_B1p5sx",
        "outputId": "7fdf1235-a9a2-431c-f403-13a616e7ae78"
      },
      "execution_count": 9,
      "outputs": [
        {
          "output_type": "stream",
          "name": "stdout",
          "text": [
            "Введите число: 12345\n",
            "Число: 12345\n",
            "Сумма цифр: 15\n",
            "Количество цифр: 5\n"
          ]
        }
      ]
    },
    {
      "cell_type": "code",
      "source": [
        "# Задание task_01_2_11.\n",
        "#\n",
        "# Выполнил: Губайдуллина А. И.\n",
        "# Группа: АБП-231\n",
        "\n",
        "start = int(input(\"Введите левую границу интервала: \"))\n",
        "k = int(input(\"Введите окончание натурального числа k: \"))\n",
        "s = int(input(\"Введите кратность натурального числа s: \"))\n",
        "n_count = 0\n",
        "\n",
        "# Удалите комментарий и допишите код\n",
        "\n",
        "current = start\n",
        "result = []  # список для хранения найденных чисел\n",
        "\n",
        "while n_count < 10:\n",
        "    # Проверяем условия: число оканчивается на k, кратно s,\n",
        "    # и находится в интервале [start, ...]\n",
        "    if current % 10 == k and current % s == 0:\n",
        "        result.append(str(current))\n",
        "        n_count += 1\n",
        "    current += 1\n",
        "\n",
        "# Выводим числа в строку через пробел\n",
        "print(\" \".join(result))"
      ],
      "metadata": {
        "colab": {
          "base_uri": "https://localhost:8080/"
        },
        "id": "xnSqCaVDuVI_",
        "outputId": "b7d2a26c-a861-42e3-d1ef-887294cd3da7"
      },
      "execution_count": 11,
      "outputs": [
        {
          "output_type": "stream",
          "name": "stdout",
          "text": [
            "Введите левую границу интервала: 100\n",
            "Введите окончание натурального числа k: 7\n",
            "Введите кратность натурального числа s: 9\n",
            "117 207 297 387 477 567 657 747 837 927\n"
          ]
        }
      ]
    },
    {
      "cell_type": "code",
      "source": [
        "# Задание task_01_2_12.\n",
        "#\n",
        "# Выполнил: Губайдуллина А. И.\n",
        "# Группа: АБП-231\n",
        "\n",
        "a = int(input(\"Введите число а\"))\n",
        "b = int(input(\"Введите число b\"))\n",
        "\n",
        "\n",
        "if a == b:\n",
        "    print(\"Числа равны! Пожалуйста, введите различные числа.\")\n",
        "else:\n",
        "    maximum = max(a, b)\n",
        "    minimum = min(a, b)\n",
        "numbers_asc = []\n",
        "for i in range(minimum, maximum + 1):\n",
        "    numbers_asc.append(str(i))\n",
        "print(\" \".join(numbers_asc))\n",
        "\n",
        "# 2. Числа от максимального до минимального столбиком\n",
        "print(\"\\nЧисла от максимального до минимального:\")\n",
        "for i in range(maximum, minimum - 1, -1):\n",
        "    print(i)\n",
        "\n",
        "# Удалите комментарий и допишите код"
      ],
      "metadata": {
        "colab": {
          "base_uri": "https://localhost:8080/"
        },
        "id": "k4e78dXdzlhD",
        "outputId": "24098665-8e6b-4ab9-d49f-c1607c60befc"
      },
      "execution_count": 13,
      "outputs": [
        {
          "output_type": "stream",
          "name": "stdout",
          "text": [
            "Введите число а1\n",
            "Введите число b5\n",
            "1 2 3 4 5\n",
            "\n",
            "Числа от максимального до минимального:\n",
            "5\n",
            "4\n",
            "3\n",
            "2\n",
            "1\n"
          ]
        }
      ]
    },
    {
      "cell_type": "code",
      "source": [
        "# Задание task_01_2_13.\n",
        "#\n",
        "# Выполнил: Губайдуллина А. И.\n",
        "# Группа: АБП-231\n",
        "\n",
        "a = int(input(\"Введите число a: \"))\n",
        "b = int(input(\"Введите число b: \"))\n",
        "\n",
        "# Проверяем условие a ≤ b\n",
        "if a > b:\n",
        "    print(\"Ошибка: a должно быть меньше или равно b\")\n",
        "else:\n",
        "    n_sum = 0\n",
        "    n_mult = 1\n",
        "    count = 0\n",
        "    odd_count = 0\n",
        "    odd_mult = 1\n",
        "\n",
        "    # Проходим по всем числам от a до b включительно\n",
        "    for num in range(a, b + 1):\n",
        "        n_sum += num\n",
        "        n_mult *= num\n",
        "        count += 1\n",
        "\n",
        "        # Для нечетных чисел считаем произведение для среднего геометрического\n",
        "        if num % 2 != 0:\n",
        "            odd_mult *= num\n",
        "            odd_count += 1\n",
        "\n",
        "    # Среднее арифметическое\n",
        "    n_avg = n_sum / count if count > 0 else 0\n",
        "\n",
        "    # Среднее геометрическое нечетных чисел\n",
        "    if odd_count > 0:\n",
        "        n_avg_geom = odd_mult ** (1 / odd_count)\n",
        "    else:\n",
        "        n_avg_geom = 0\n",
        "\n",
        "    print(\"Сумма =\", n_sum)\n",
        "    print(\"Произведение =\", n_mult)\n",
        "    print(\"Среднее арифметическое = {:.2f}\".format(n_avg))\n",
        "    print(\"Среднее геометрическое нечетных чисел = {:.2f}\".format(n_avg_geom))"
      ],
      "metadata": {
        "colab": {
          "base_uri": "https://localhost:8080/"
        },
        "id": "djoxNn7o1pxG",
        "outputId": "c1198104-0fe1-45a0-a89d-afb479903517"
      },
      "execution_count": 14,
      "outputs": [
        {
          "output_type": "stream",
          "name": "stdout",
          "text": [
            "Введите число a: 1\n",
            "Введите число b: 5\n",
            "Сумма = 15\n",
            "Произведение = 120\n",
            "Среднее арифметическое = 3.00\n",
            "Среднее геометрическое нечетных чисел = 2.47\n"
          ]
        }
      ]
    },
    {
      "cell_type": "code",
      "source": [
        "# Задание task_01_2_14.\n",
        "#\n",
        "# Выполнил: Губайдуллина А. И.\n",
        "# Группа: АБП-231\n",
        "\n",
        "s = float(input(\"Введите пробег в первый день (км): \"))\n",
        "p = float(input(\"Введите процент увеличения (0 < p ≤ 100): \"))\n",
        "\n",
        "total = s  # суммарный пробег за 10 дней\n",
        "current = s  # пробег текущего дня\n",
        "\n",
        "print(\"Пробег по дням:\")\n",
        "print(\"День 1: {:.1f} км\".format(current))\n",
        "\n",
        "# Рассчитываем пробег за 2-10 дни\n",
        "for day in range(2, 11):\n",
        "    current = current * (1 + p / 100)  # увеличиваем пробег на p%\n",
        "    total += current  # добавляем к суммарному пробегу\n",
        "    print(\"День {}: {:.1f} км\".format(day, current))\n",
        "\n",
        "print(\"Суммарный пробег: {:.1f} км.\".format(total))"
      ],
      "metadata": {
        "colab": {
          "base_uri": "https://localhost:8080/"
        },
        "id": "Zl9DZyMc2Qqp",
        "outputId": "9011e89a-ff4b-4c4c-b86c-7759ea9545ca"
      },
      "execution_count": 15,
      "outputs": [
        {
          "output_type": "stream",
          "name": "stdout",
          "text": [
            "Введите пробег в первый день (км): 5\n",
            "Введите процент увеличения (0 < p ≤ 100): 10\n",
            "Пробег по дням:\n",
            "День 1: 5.0 км\n",
            "День 2: 5.5 км\n",
            "День 3: 6.1 км\n",
            "День 4: 6.7 км\n",
            "День 5: 7.3 км\n",
            "День 6: 8.1 км\n",
            "День 7: 8.9 км\n",
            "День 8: 9.7 км\n",
            "День 9: 10.7 км\n",
            "День 10: 11.8 км\n",
            "Суммарный пробег: 79.7 км.\n"
          ]
        }
      ]
    },
    {
      "cell_type": "code",
      "source": [
        "# Задание task_01_2_15.\n",
        "#\n",
        "# Выполнил: Губайдуллина А. И.\n",
        "# Группа: АБП-231\n",
        "\n",
        "p = float(input(\"Введите грузоподъемность грузовика (кг): \"))\n",
        "n = int(input(\"Введите количество предметов: \"))\n",
        "\n",
        "total = 0\n",
        "\n",
        "# Вводим массу каждого предмета и суммируем\n",
        "for i in range(n):\n",
        "    mass = float(input(\"Введите массу предмета {} (кг): \".format(i + 1)))\n",
        "    total += mass\n",
        "\n",
        "# Проверяем возможность перевозки\n",
        "if total <= p:\n",
        "    print(\"Перевозка возможна. Общая масса груза: {:.1f} кг\".format(total))\n",
        "else:\n",
        "    print(\"Перевозка невозможна. Общая масса груза: {:.1f} кг превышает грузоподъемность {:.1f} кг\".format(total, p))"
      ],
      "metadata": {
        "colab": {
          "base_uri": "https://localhost:8080/"
        },
        "id": "xSAJBFNp2-SM",
        "outputId": "0e1e6339-e30a-4edc-f1b6-6346dd7f5e7b"
      },
      "execution_count": 16,
      "outputs": [
        {
          "output_type": "stream",
          "name": "stdout",
          "text": [
            "Введите грузоподъемность грузовика (кг): 10\n",
            "Введите количество предметов: 2\n",
            "Введите массу предмета 1 (кг): 3\n",
            "Введите массу предмета 2 (кг): 3\n",
            "Перевозка возможна. Общая масса груза: 6.0 кг\n"
          ]
        }
      ]
    },
    {
      "cell_type": "code",
      "source": [
        "# Задание task_01_2_16.\n",
        "#\n",
        "# Выполнил: Губайдуллина А. И.\n",
        "# Группа: АБП-231\n",
        "\n",
        "n = int(input(\"Введите количество районов: \"))\n",
        "\n",
        "total = 0\n",
        "\n",
        "# Вводим данные по каждому району и считаем общий урожай\n",
        "for i in range(n):\n",
        "    print(f\"Район {i + 1}:\")\n",
        "    area = float(input(\"  Площадь (га): \"))\n",
        "    yield_per_hectare = float(input(\"  Урожайность (ц/га): \"))\n",
        "\n",
        "    # Считаем урожай с текущего района и добавляем к общему\n",
        "    district_harvest = area * yield_per_hectare\n",
        "    total += district_harvest\n",
        "\n",
        "print(\"Общее количество пшеницы по области: {:.1f} ц\".format(total))"
      ],
      "metadata": {
        "colab": {
          "base_uri": "https://localhost:8080/"
        },
        "id": "N65BURrW3qAt",
        "outputId": "813cbeff-9f9e-4148-df4a-f44731b636b0"
      },
      "execution_count": 17,
      "outputs": [
        {
          "output_type": "stream",
          "name": "stdout",
          "text": [
            "Введите количество районов: 3\n",
            "Район 1:\n",
            "  Площадь (га): 4\n",
            "  Урожайность (ц/га): 2\n",
            "Район 2:\n",
            "  Площадь (га): 7\n",
            "  Урожайность (ц/га): 3\n",
            "Район 3:\n",
            "  Площадь (га): 9\n",
            "  Урожайность (ц/га): 4\n",
            "Общее количество пшеницы по области: 65.0 ц\n"
          ]
        }
      ]
    },
    {
      "cell_type": "code",
      "source": [
        "# Задание task_01_2_17.\n",
        "#\n",
        "# Выполнил: Губайдуллина А. И.\n",
        "# Группа: АБП-231\n",
        "\n",
        "nums_sum = 0  # сумма\n",
        "nums_count = 0  # количество\n",
        "\n",
        "print(\"Вводите числа (0 для завершения):\")\n",
        "\n",
        "while True:  # бесконечный цикл\n",
        "    x = int(input(\"Введите число: \"))\n",
        "\n",
        "    if x == 0:  # условие прерывания цикла\n",
        "        break\n",
        "\n",
        "    nums_sum += x\n",
        "    nums_count += 1\n",
        "\n",
        "print(\"Сумма чисел:\", nums_sum)\n",
        "print(\"Количество чисел:\", nums_count)"
      ],
      "metadata": {
        "colab": {
          "base_uri": "https://localhost:8080/"
        },
        "id": "29rh8BWJ4U7G",
        "outputId": "23de4b1c-a0da-403d-af97-5e012d1dc5bd"
      },
      "execution_count": 18,
      "outputs": [
        {
          "output_type": "stream",
          "name": "stdout",
          "text": [
            "Вводите числа (0 для завершения):\n",
            "Введите число: 1\n",
            "Введите число: 2\n",
            "Введите число: 3\n",
            "Введите число: 4\n",
            "Введите число: 5\n",
            "Введите число: 6\n",
            "Введите число: 0\n",
            "Сумма чисел: 21\n",
            "Количество чисел: 6\n"
          ]
        }
      ]
    },
    {
      "cell_type": "code",
      "source": [
        "# Задание task_01_2_18.\n",
        "#\n",
        "# Выполнил: Губайдуллина А. И.\n",
        "# Группа: АБП-231\n",
        "\n",
        "sentence = input(\"Введите предложение: \")\n",
        "\n",
        "count_gl = 0  # Кол-во гласных\n",
        "count_sogl = 0  # Кол-во согласных\n",
        "\n",
        "# Списки гласных и согласных букв кириллицы (в нижнем регистре)\n",
        "vowels = 'аеёиоуыэюя'\n",
        "consonants = 'бвгджзйклмнпрстфхцчшщ'\n",
        "\n",
        "# Приводим предложение к нижнему регистру для удобства проверки\n",
        "sentence_lower = sentence.lower()\n",
        "\n",
        "for char in sentence_lower:\n",
        "    # Пропускаем пробелы\n",
        "    if char == ' ':\n",
        "        continue\n",
        "\n",
        "    # Проверяем, является ли символ гласной\n",
        "    if char in vowels:\n",
        "        count_gl += 1\n",
        "    # Проверяем, является ли символ согласной\n",
        "    elif char in consonants:\n",
        "        count_sogl += 1\n",
        "\n",
        "print(\"Количество гласных букв:\", count_gl)\n",
        "print(\"Количество согласных букв:\", count_sogl)\n",
        "print(\"Всего букв:\", count_gl + count_sogl)"
      ],
      "metadata": {
        "colab": {
          "base_uri": "https://localhost:8080/"
        },
        "id": "iVf3nPrs4-Aa",
        "outputId": "c9ee35d6-9390-4bc6-b396-a263ec0e45de"
      },
      "execution_count": 19,
      "outputs": [
        {
          "output_type": "stream",
          "name": "stdout",
          "text": [
            "Введите предложение: Программирование\n",
            "Количество гласных букв: 7\n",
            "Количество согласных букв: 9\n",
            "Всего букв: 16\n"
          ]
        }
      ]
    },
    {
      "cell_type": "code",
      "source": [
        "# Задание task_01_2_19.\n",
        "#\n",
        "# Выполнил: Губайдуллина А. И.\n",
        "# Группа: АБП-231\n",
        "\n",
        "a = int(input(\"Введите число a: \"))\n",
        "b = int(input(\"Введите число b: \"))\n",
        "c = int(input(\"Введите число c: \"))\n",
        "\n",
        "# Определяем начальное число (первое кратное c, не меньшее a)\n",
        "start = a\n",
        "if a % c != 0:\n",
        "    start = a + (c - a % c)\n",
        "\n",
        "# Выводим числа в строку через пробел\n",
        "result = []\n",
        "for num in range(start, b + 1, c):\n",
        "    result.append(str(num))\n",
        "\n",
        "print(\" \".join(result))"
      ],
      "metadata": {
        "colab": {
          "base_uri": "https://localhost:8080/"
        },
        "id": "A8y0vTMdD_pc",
        "outputId": "71d1f851-2c23-4de5-9cc7-923fcfa374ff"
      },
      "execution_count": 20,
      "outputs": [
        {
          "output_type": "stream",
          "name": "stdout",
          "text": [
            "Введите число a: 1\n",
            "Введите число b: 10\n",
            "Введите число c: 2\n",
            "2 4 6 8 10\n"
          ]
        }
      ]
    },
    {
      "cell_type": "code",
      "source": [
        "# Задание task_01_2_20.\n",
        "#\n",
        "# Выполнил: Губайдуллина А. И.\n",
        "# Группа: АБП-231\n",
        "\n",
        "n = int(input(\"Введите число n (0 < n ≤ 27): \"))\n",
        "\n",
        "result = []\n",
        "# Перебираем все трехзначные числа от 100 до 999\n",
        "for num in range(100, 1000):\n",
        "    # Разбиваем число на цифры\n",
        "    digit1 = num // 100        # первая цифра\n",
        "    digit2 = (num // 10) % 10  # вторая цифра\n",
        "    digit3 = num % 10          # третья цифра\n",
        "\n",
        "    # Проверяем сумму цифр\n",
        "    if digit1 + digit2 + digit3 == n:\n",
        "        result.append(str(num))\n",
        "\n",
        "# Выводим результат в строку через пробел\n",
        "if result:\n",
        "    print(\" \".join(result))\n",
        "else:\n",
        "    print(f\"Нет трехзначных чисел с суммой цифр {n}\")"
      ],
      "metadata": {
        "colab": {
          "base_uri": "https://localhost:8080/"
        },
        "id": "1HhmT-FqEpJJ",
        "outputId": "ec2fb279-65e8-4585-b9fb-6b4bd7062e7d"
      },
      "execution_count": 21,
      "outputs": [
        {
          "output_type": "stream",
          "name": "stdout",
          "text": [
            "Введите число n (0 < n ≤ 27): 3\n",
            "102 111 120 201 210 300\n"
          ]
        }
      ]
    },
    {
      "cell_type": "code",
      "source": [
        "# Задание task_01_2_21.\n",
        "#\n",
        "# Выполнил: Губайдуллина А. И.\n",
        "# Группа: АБП-231\n",
        "\n",
        "n = int(input(\"Введите количество учеников в классе: \"))\n",
        "\n",
        "r_sr_m = 0.0  # средний рост мальчиков\n",
        "r_sr_d = 0.0  # средний рост девочек\n",
        "\n",
        "count_m = 0  # количество мальчиков\n",
        "count_d = 0  # количество девочек\n",
        "sum_m = 0    # сумма роста мальчиков\n",
        "sum_d = 0    # сумма роста девочек\n",
        "\n",
        "# Вводим рост каждого ученика и разделяем на мальчиков и девочек\n",
        "for i in range(n):\n",
        "    height = int(input(f\"Введите рост ученика {i+1} (см): \"))\n",
        "\n",
        "    if height < 0:\n",
        "        # Мальчик - отрицательный рост, берем модуль\n",
        "        sum_m += abs(height)\n",
        "        count_m += 1\n",
        "    else:\n",
        "        # Девочка - положительный рост\n",
        "        sum_d += height\n",
        "        count_d += 1\n",
        "\n",
        "# Вычисляем средний рост (избегаем деления на ноль)\n",
        "if count_m > 0:\n",
        "    r_sr_m = sum_m / count_m\n",
        "if count_d > 0:\n",
        "    r_sr_d = sum_d / count_d\n",
        "\n",
        "print(\"Средний рост мальчиков: {:.1f}\".format(r_sr_m))\n",
        "print(\"Средний рост девочек: {:.1f}\".format(r_sr_d))"
      ],
      "metadata": {
        "colab": {
          "base_uri": "https://localhost:8080/"
        },
        "id": "GefXsf6IFEH5",
        "outputId": "0ec403a4-8ea4-4f6c-b2dd-6a95c5695b02"
      },
      "execution_count": 24,
      "outputs": [
        {
          "output_type": "stream",
          "name": "stdout",
          "text": [
            "Введите количество учеников в классе: 3\n",
            "Введите рост ученика 1 (см): 180\n",
            "Введите рост ученика 2 (см): 150\n",
            "Введите рост ученика 3 (см): -170\n",
            "Средний рост мальчиков: 170.0\n",
            "Средний рост девочек: 165.0\n"
          ]
        }
      ]
    },
    {
      "cell_type": "code",
      "source": [
        "# Задание task_01_2_22.\n",
        "#\n",
        "# Выполнил: Губайдуллина А. И.\n",
        "# Группа: АБП-231\n",
        "\n",
        "n = int(input(\"Введите количество чисел: \"))\n",
        "\n",
        "a_max = None\n",
        "a_min = None\n",
        "\n",
        "# Вводим числа и находим максимум и минимум\n",
        "for i in range(n):\n",
        "    num = float(input(f\"Введите число {i+1}: \"))\n",
        "\n",
        "    # Инициализируем максимум и минимум первым числом\n",
        "    if a_max is None:\n",
        "        a_max = num\n",
        "        a_min = num\n",
        "    else:\n",
        "        # Обновляем максимум и минимум\n",
        "        if num > a_max:\n",
        "            a_max = num\n",
        "        if num < a_min:\n",
        "            a_min = num\n",
        "\n",
        "print(\"Максимум: {:.2f}\".format(a_max))\n",
        "print(\"Минимум: {:.2f}\".format(a_min))"
      ],
      "metadata": {
        "colab": {
          "base_uri": "https://localhost:8080/"
        },
        "id": "-f1fC2XJGsyr",
        "outputId": "d548d5e5-da7d-4587-c8cf-81135c257b9a"
      },
      "execution_count": 25,
      "outputs": [
        {
          "output_type": "stream",
          "name": "stdout",
          "text": [
            "Введите количество чисел: 5\n",
            "Введите число 1: 1\n",
            "Введите число 2: 2\n",
            "Введите число 3: 3\n",
            "Введите число 4: 4\n",
            "Введите число 5: 5\n",
            "Максимум: 5.00\n",
            "Минимум: 1.00\n"
          ]
        }
      ]
    },
    {
      "cell_type": "code",
      "source": [
        "# Задание task_01_2_23.\n",
        "#\n",
        "# Выполнил: Губайдуллина А. И.\n",
        "# Группа: АБП-231\n",
        "\n",
        "n = int(input(\"Введите натуральное число n: \"))\n",
        "\n",
        "# Первые два числа Фибоначчи\n",
        "a, b = 0, 1\n",
        "\n",
        "# Проверяем, является ли n одним из первых двух чисел\n",
        "if n == 0 or n == 1:\n",
        "    print(\"Является\")\n",
        "else:\n",
        "    # Генерируем последовательность Фибоначчи, пока не превысим n\n",
        "    is_fibonacci = False\n",
        "    while b <= n:\n",
        "        if b == n:\n",
        "            is_fibonacci = True\n",
        "            break\n",
        "        a, b = b, a + b\n",
        "\n",
        "    print(\"Является\" if is_fibonacci else \"Не является\")"
      ],
      "metadata": {
        "colab": {
          "base_uri": "https://localhost:8080/"
        },
        "id": "5b30CFDPHRug",
        "outputId": "5aa9fd10-2191-4e85-d408-3fa6be9a1e08"
      },
      "execution_count": 26,
      "outputs": [
        {
          "output_type": "stream",
          "name": "stdout",
          "text": [
            "Введите натуральное число n: 7\n",
            "Не является\n"
          ]
        }
      ]
    },
    {
      "cell_type": "code",
      "source": [
        "# Задание task_01_2_24.\n",
        "#\n",
        "# Выполнил: Губайдуллина А. И.\n",
        "# Группа: АБП-231\n",
        "\n",
        "n = int(input(\"Введите количество чисел: \"))\n",
        "\n",
        "index = -1\n",
        "\n",
        "prev = float(input(\"1-е число = \"))\n",
        "for i in range(2, n + 1):\n",
        "    current = float(input(f\"{i}-е число = \"))\n",
        "\n",
        "    # Проверяем, нарушает ли текущее число порядок возрастания\n",
        "    if current <= prev:\n",
        "        index = i  # сохраняем индекс нарушающего элемента\n",
        "        break\n",
        "\n",
        "    prev = current  # обновляем предыдущее число\n",
        "\n",
        "if index == -1:\n",
        "    print(\"Последовательность упорядочена по возрастанию\")\n",
        "else:\n",
        "    print(f\"Последовательность не упорядочена по возрастанию\")\n",
        "    print(f\"Элемент №{index} нарушает порядок\")"
      ],
      "metadata": {
        "colab": {
          "base_uri": "https://localhost:8080/"
        },
        "id": "6DlZDEh_Hmhj",
        "outputId": "6844d212-ed56-48fb-d21f-a1368886e607"
      },
      "execution_count": 27,
      "outputs": [
        {
          "output_type": "stream",
          "name": "stdout",
          "text": [
            "Введите количество чисел: 4\n",
            "1-е число = 1\n",
            "2-е число = 6\n",
            "3-е число = 7\n",
            "4-е число = 4\n",
            "Последовательность не упорядочена по возрастанию\n",
            "Элемент №4 нарушает порядок\n"
          ]
        }
      ]
    },
    {
      "cell_type": "code",
      "source": [
        "# Задание task_01_2_25.\n",
        "#\n",
        "# Выполнил: Губайдуллина А. И.\n",
        "# Группа: АБП-231\n",
        "\n",
        "n = int(input(\"Введите число n (2 < n ≤ 9): \"))\n",
        "\n",
        "# Проверяем условие 2 < n ≤ 9\n",
        "if n <= 2 or n > 9:\n",
        "    print(\"Число должно быть в диапазоне: 2 < n ≤ 9\")\n",
        "else:\n",
        "    # Внешний цикл для второго множителя (столбцы)\n",
        "    for j in range(1, 10):\n",
        "        # Внутренний цикл для первого множителя (строки)\n",
        "        for i in range(1, n + 1):\n",
        "            result = i * j\n",
        "            print(f\"{i} × {j} = {result}\", end=\"   \")\n",
        "        print()  # Переход на новую строку после каждого столбца\n",
        "        print()  # Пустая строка между блоками\n",
        ""
      ],
      "metadata": {
        "colab": {
          "base_uri": "https://localhost:8080/"
        },
        "id": "t6PPPEDrIIJW",
        "outputId": "f0b6e9de-8854-4239-ee03-9d1c6198437b"
      },
      "execution_count": 28,
      "outputs": [
        {
          "output_type": "stream",
          "name": "stdout",
          "text": [
            "Введите число n (2 < n ≤ 9): 5\n",
            "1 × 1 = 1   2 × 1 = 2   3 × 1 = 3   4 × 1 = 4   5 × 1 = 5   \n",
            "\n",
            "1 × 2 = 2   2 × 2 = 4   3 × 2 = 6   4 × 2 = 8   5 × 2 = 10   \n",
            "\n",
            "1 × 3 = 3   2 × 3 = 6   3 × 3 = 9   4 × 3 = 12   5 × 3 = 15   \n",
            "\n",
            "1 × 4 = 4   2 × 4 = 8   3 × 4 = 12   4 × 4 = 16   5 × 4 = 20   \n",
            "\n",
            "1 × 5 = 5   2 × 5 = 10   3 × 5 = 15   4 × 5 = 20   5 × 5 = 25   \n",
            "\n",
            "1 × 6 = 6   2 × 6 = 12   3 × 6 = 18   4 × 6 = 24   5 × 6 = 30   \n",
            "\n",
            "1 × 7 = 7   2 × 7 = 14   3 × 7 = 21   4 × 7 = 28   5 × 7 = 35   \n",
            "\n",
            "1 × 8 = 8   2 × 8 = 16   3 × 8 = 24   4 × 8 = 32   5 × 8 = 40   \n",
            "\n",
            "1 × 9 = 9   2 × 9 = 18   3 × 9 = 27   4 × 9 = 36   5 × 9 = 45   \n",
            "\n"
          ]
        }
      ]
    },
    {
      "cell_type": "code",
      "source": [
        "# Задание task_01_2_26.\n",
        "#\n",
        "# Выполнил: Губайдуллина А. И.\n",
        "# Группа: АБП-231\n",
        "n = int(input(\"Введите число n: \"))\n",
        "\n",
        "# Внешний цикл для чисел от 1 до n\n",
        "for number in range(1, n + 1):\n",
        "    count = 0  # счетчик делителей\n",
        "\n",
        "    # Внутренний цикл для поиска делителей\n",
        "    for divisor in range(1, number + 1):\n",
        "        if number % divisor == 0:\n",
        "            count += 1\n",
        "\n",
        "    # Выводим число и соответствующее количество звездочек\n",
        "    print(f\"{number} {'*' * count}\")\n"
      ],
      "metadata": {
        "colab": {
          "base_uri": "https://localhost:8080/"
        },
        "id": "OADhlOaRIszU",
        "outputId": "0f2184c2-2ba3-45ca-ee77-38eceb491781"
      },
      "execution_count": 29,
      "outputs": [
        {
          "output_type": "stream",
          "name": "stdout",
          "text": [
            "Введите число n: 10\n",
            "1 *\n",
            "2 **\n",
            "3 **\n",
            "4 ***\n",
            "5 **\n",
            "6 ****\n",
            "7 **\n",
            "8 ****\n",
            "9 ***\n",
            "10 ****\n"
          ]
        }
      ]
    },
    {
      "cell_type": "code",
      "source": [
        "# Задание task_01_2_27.\n",
        "#\n",
        "# Выполнил: Губайдуллина А. И.\n",
        "# Группа: АБП-231\n",
        "\n",
        "n = int(input(\"Введите количество простых чисел: \"))\n",
        "\n",
        "count = 0  # счетчик найденных простых чисел\n",
        "number = 2  # первое простое число\n",
        "\n",
        "print(\"Первые\", n, \"простых чисел:\")\n",
        "\n",
        "while count < n:\n",
        "    is_prime = True  # флаг простоты числа\n",
        "\n",
        "    # Проверяем, является ли число простым\n",
        "    for divisor in range(2, int(number**0.5) + 1):\n",
        "        if number % divisor == 0:\n",
        "            is_prime = False\n",
        "            break\n",
        "\n",
        "    # Если число простое, добавляем его и увеличиваем счетчик\n",
        "    if is_prime:\n",
        "        print(number, end=\" \")\n",
        "        count += 1\n",
        "\n",
        "    number += 1"
      ],
      "metadata": {
        "colab": {
          "base_uri": "https://localhost:8080/"
        },
        "id": "uqU9IT2eJCmp",
        "outputId": "6b23afbb-583c-4851-9ad5-59491a97814f"
      },
      "execution_count": 30,
      "outputs": [
        {
          "output_type": "stream",
          "name": "stdout",
          "text": [
            "Введите количество простых чисел: 3\n",
            "Первые 3 простых чисел:\n",
            "2 3 5 "
          ]
        }
      ]
    },
    {
      "cell_type": "code",
      "source": [
        "# Задание task_01_2_28.\n",
        "#\n",
        "# Выполнил: Губайдуллина А. И.\n",
        "# Группа: АБП-231\n",
        "\n",
        "k = int(input(\"Введите число k: \"))\n",
        "\n",
        "solutions = []  # список для хранения решений\n",
        "\n",
        "# Перебираем все возможные значения x, y, z от 1 до 30\n",
        "for x in range(1, 31):\n",
        "    for y in range(1, 31):\n",
        "        for z in range(1, 31):\n",
        "            # Проверяем уравнение x² + y² + z² = k²\n",
        "            if x*x + y*y + z*z == k*k:\n",
        "                solutions.append((x, y, z))\n",
        "\n",
        "# Выводим результаты\n",
        "if solutions:\n",
        "    print(f\"Найдено {len(solutions)} решений уравнения x² + y² + z² = {k}²:\")\n",
        "    for solution in solutions:\n",
        "        print(f\"x={solution[0]}, y={solution[1]}, z={solution[2]}\")\n",
        "else:\n",
        "    print(f\"Решений уравнения x² + y² + z² = {k}² в диапазоне [1,30] не найдено\")"
      ],
      "metadata": {
        "colab": {
          "base_uri": "https://localhost:8080/"
        },
        "id": "yS3lrIKvJek2",
        "outputId": "9a3a5904-295f-4c3a-8db9-0582c94666a7"
      },
      "execution_count": 32,
      "outputs": [
        {
          "output_type": "stream",
          "name": "stdout",
          "text": [
            "Введите число k: 30\n",
            "Найдено 15 решений уравнения x² + y² + z² = 30²:\n",
            "x=4, y=10, z=28\n",
            "x=4, y=20, z=22\n",
            "x=4, y=22, z=20\n",
            "x=4, y=28, z=10\n",
            "x=10, y=4, z=28\n",
            "x=10, y=20, z=20\n",
            "x=10, y=28, z=4\n",
            "x=20, y=4, z=22\n",
            "x=20, y=10, z=20\n",
            "x=20, y=20, z=10\n",
            "x=20, y=22, z=4\n",
            "x=22, y=4, z=20\n",
            "x=22, y=20, z=4\n",
            "x=28, y=4, z=10\n",
            "x=28, y=10, z=4\n"
          ]
        }
      ]
    },
    {
      "cell_type": "code",
      "source": [
        "# Задание task_01_2_29.\n",
        "#\n",
        "# Выполнил: Губайдуллина А. И.\n",
        "# Группа: АБП-231\n",
        "\n",
        "n = int(input(\"n = \"))\n",
        "\n",
        "nums = []  # исходный список\n",
        "for i in range(n):\n",
        "    num = float(input(f\"Введите число {i+1}: \"))\n",
        "    nums.append(num)\n",
        "\n",
        "# Списковое включение для положительных чисел\n",
        "nums_pos = [num for num in nums if num > 0]\n",
        "\n",
        "# Без спискового включения для отрицательных чисел\n",
        "nums_neg = []\n",
        "for num in nums:\n",
        "    if num < 0:\n",
        "        nums_neg.append(num)\n",
        "\n",
        "# Среднее арифметическое положительных чисел\n",
        "if nums_pos:\n",
        "    sr_ar = sum(nums_pos) / len(nums_pos)\n",
        "else:\n",
        "    sr_ar = 0\n",
        "\n",
        "# Среднее геометрическое отрицательных чисел\n",
        "if nums_neg:\n",
        "    product = 1\n",
        "    for num in nums_neg:\n",
        "        product *= abs(num)  # берем модуль, т.к. отрицательные числа\n",
        "    sr_geom = product ** (1 / len(nums_neg))\n",
        "else:\n",
        "    sr_geom = 0\n",
        "\n",
        "# Вывод результатов\n",
        "print(\"Исходный список:\", [f\"{x:.2f}\" for x in nums])\n",
        "print(\"Положительные числа:\", [f\"{x:.2f}\" for x in nums_pos])\n",
        "print(\"Отрицательные числа:\", [f\"{x:.2f}\" for x in nums_neg])\n",
        "print(\"Среднее арифметическое положительных: {:.2f}\".format(sr_ar))\n",
        "print(\"Среднее геометрическое отрицательных: {:.2f}\".format(sr_geom))"
      ],
      "metadata": {
        "colab": {
          "base_uri": "https://localhost:8080/"
        },
        "id": "_fydAXnkJ6-v",
        "outputId": "0cc278db-100c-48f3-8943-a5972703486e"
      },
      "execution_count": 34,
      "outputs": [
        {
          "output_type": "stream",
          "name": "stdout",
          "text": [
            "n = 4\n",
            "Введите число 1: 1\n",
            "Введите число 2: 6\n",
            "Введите число 3: -10\n",
            "Введите число 4: -3\n",
            "Исходный список: ['1.00', '6.00', '-10.00', '-3.00']\n",
            "Положительные числа: ['1.00', '6.00']\n",
            "Отрицательные числа: ['-10.00', '-3.00']\n",
            "Среднее арифметическое положительных: 3.50\n",
            "Среднее геометрическое отрицательных: 5.48\n"
          ]
        }
      ]
    },
    {
      "cell_type": "code",
      "source": [
        "# Задание task_01_2_30.\n",
        "#\n",
        "# Выполнил: Губайдуллина А. И.\n",
        "# Группа: АБП-231\n",
        "\n",
        "# Все разделенные пробелом элементы будут преобразованы в список целых чисел\n",
        "nums = [int(item) for item in input().split()]\n",
        "\n",
        "# 1. Все положительные\n",
        "all_pos_1 = True\n",
        "for item in nums:\n",
        "    if item <= 0:\n",
        "        all_pos_1 = False\n",
        "        break\n",
        "\n",
        "all_pos_2 = all([item > 0 for item in nums])\n",
        "\n",
        "# 2. Хотя бы 1 нулевой элемент\n",
        "any_zero_1 = False\n",
        "for item in nums:\n",
        "    if item == 0:\n",
        "        any_zero_1 = True\n",
        "        break\n",
        "\n",
        "any_zero_2 = any([item == 0 for item in nums])\n",
        "\n",
        "# 3. Все четные\n",
        "all_even_1 = True\n",
        "for item in nums:\n",
        "    if item % 2 != 0:\n",
        "        all_even_1 = False\n",
        "        break\n",
        "\n",
        "all_even_2 = all([item % 2 == 0 for item in nums])\n",
        "\n",
        "# 4. Хотя бы 1 нечетный элемент\n",
        "any_odd_1 = False\n",
        "for item in nums:\n",
        "    if item % 2 != 0:\n",
        "        any_odd_1 = True\n",
        "        break\n",
        "\n",
        "any_odd_2 = any([item % 2 != 0 for item in nums])\n",
        "\n",
        "print(\"Все положительные:\", all_pos_1, all_pos_2)\n",
        "print(\"Хотя бы 1 нулевой элемент:\", any_zero_1, any_zero_2)\n",
        "print(\"Все четные:\", all_even_1, all_even_2)\n",
        "print(\"Хотя бы 1 нечетный элемент:\", any_odd_1, any_odd_2)\n"
      ],
      "metadata": {
        "colab": {
          "base_uri": "https://localhost:8080/"
        },
        "id": "ykO8Arn6LdOc",
        "outputId": "304111e4-c2e1-4188-c3e9-8d6dc4b84161"
      },
      "execution_count": 36,
      "outputs": [
        {
          "output_type": "stream",
          "name": "stdout",
          "text": [
            "-1 1 100 0\n",
            "Все положительные: False False\n",
            "Хотя бы 1 нулевой элемент: True True\n",
            "Все четные: False False\n",
            "Хотя бы 1 нечетный элемент: True True\n"
          ]
        }
      ]
    },
    {
      "cell_type": "code",
      "source": [
        "# Задание task_01_2_31.\n",
        "#\n",
        "# Выполнил: Губайдуллина А. И.\n",
        "# Группа: АБП-231\n",
        "\n",
        "s = input(\"Введите предложение: \")\n",
        "k = input(\"Введите букву для удаления: \")\n",
        "\n",
        "# Разбиваем предложение на слова\n",
        "words = s.split()\n",
        "\n",
        "# Создаем новый список слов, которые НЕ содержат букву k\n",
        "filtered_words = []\n",
        "for word in words:\n",
        "    if k.lower() not in word.lower():  # проверяем без учета регистра\n",
        "        filtered_words.append(word)\n",
        "\n",
        "# Собираем отфильтрованное предложение обратно\n",
        "result = ' '.join(filtered_words)\n",
        "\n",
        "print(\"Результат:\", result)\n"
      ],
      "metadata": {
        "colab": {
          "base_uri": "https://localhost:8080/"
        },
        "id": "AZFUABNBMYtL",
        "outputId": "ac123e94-1c63-44e4-e6ec-eef1c00fdc87"
      },
      "execution_count": 37,
      "outputs": [
        {
          "output_type": "stream",
          "name": "stdout",
          "text": [
            "Введите предложение: МАМА мыла PaMy\n",
            "Введите букву для удаления: P\n",
            "Результат: МАМА мыла\n"
          ]
        }
      ]
    },
    {
      "cell_type": "code",
      "source": [
        "# Задание task_01_2_32.\n",
        "#\n",
        "# Выполнил: Губайдуллина А. И.\n",
        "# Группа: АБП-231\n",
        "\n",
        "n = int(input(\"Введите количество рядов: \"))\n",
        "\n",
        "# 1. Заполнение мест\n",
        "seats = []\n",
        "for i in range(n):\n",
        "    row = input(f\"Введите занятость мест для ряда {i+1} (0 - свободно, 1 - занято, через пробел): \").split()\n",
        "    row = [int(seat) for seat in row]\n",
        "    seats.append(row)\n",
        "\n",
        "# 2. Всего свободных мест\n",
        "count = 0\n",
        "for row in seats:\n",
        "    for seat in row:\n",
        "        if seat == 0:\n",
        "            count += 1\n",
        "\n",
        "print(f\"Всего свободных мест: {count}\")\n",
        "\n",
        "# 3. Ввод значений для поиска\n",
        "n_p, m_p = [int(item) for item in input(\"Введите ряд и место через пробел: \").split()]\n",
        "\n",
        "# Корректируем индексы (пользователь считает с 1, а Python с 0)\n",
        "row_index = n_p - 1\n",
        "seat_index = m_p - 1\n",
        "\n",
        "# Проверяем границы\n",
        "if 0 <= row_index < len(seats) and 0 <= seat_index < len(seats[row_index]):\n",
        "    if seats[row_index][seat_index] == 0:\n",
        "        print(f\"Место {m_p} в ряду {n_p} свободно\")\n",
        "    else:\n",
        "        print(f\"Место {m_p} в ряду {n_p} занято\")\n",
        "else:\n",
        "    print(\"Такого места не существует\")"
      ],
      "metadata": {
        "colab": {
          "base_uri": "https://localhost:8080/"
        },
        "id": "L1jYvN9GNMAW",
        "outputId": "0d4a5425-33b9-499c-c01e-3c1cd46bbe4c"
      },
      "execution_count": 38,
      "outputs": [
        {
          "output_type": "stream",
          "name": "stdout",
          "text": [
            "Введите количество рядов: 3\n",
            "Введите занятость мест для ряда 1 (0 - свободно, 1 - занято, через пробел): 0\n",
            "Введите занятость мест для ряда 2 (0 - свободно, 1 - занято, через пробел): 0\n",
            "Введите занятость мест для ряда 3 (0 - свободно, 1 - занято, через пробел): 0\n",
            "Всего свободных мест: 3\n",
            "Введите ряд и место через пробел: 1 0\n",
            "Такого места не существует\n"
          ]
        }
      ]
    },
    {
      "cell_type": "code",
      "source": [
        "# Задание task_01_2_33.\n",
        "#\n",
        "# Выполнил: Губайдуллина А. И.\n",
        "# Группа: АБП-231\n",
        "\n",
        "# 1. Заполнение списка\n",
        "n = int(input(\"Введите количество сотрудников: \"))\n",
        "\n",
        "employees = []\n",
        "for i in range(n):\n",
        "    data = input(f\"Введите данные сотрудника {i+1} (Фамилия Имя Отчество Пол Стаж): \").split()\n",
        "    # Преобразуем стаж в число\n",
        "    data[4] = int(data[4])\n",
        "    employees.append(data)\n",
        "\n",
        "# 2. Самый «молодой» и самый «старый» сотрудник\n",
        "# Сортируем по стажу (по возрастанию)\n",
        "sorted_by_exp = sorted(employees, key=lambda x: x[4])\n",
        "employee_min = sorted_by_exp[0]   # самый молодой (меньший стаж)\n",
        "employee_max = sorted_by_exp[-1]  # самый старый (больший стаж)\n",
        "\n",
        "print(\"Самый \\\"молодой\\\": {}\".format(\" \".join(employee_min[:3])))\n",
        "print(\"Самый \\\"старый\\\": {}\".format(\" \".join(employee_max[:3])))\n",
        "\n",
        "# 3. Отдельные списки мужчин и женщин\n",
        "men = [emp for emp in employees if emp[3] == \"М\"]\n",
        "women = [emp for emp in employees if emp[3] == \"Ж\"]\n",
        "\n",
        "k = input(\"Введите букву k: \")\n",
        "\n",
        "# Подсчет мужчин с именем на букву k\n",
        "men_k_count = 0\n",
        "for man in men:\n",
        "    if man[1].startswith(k.upper()) or man[1].startswith(k.lower()):\n",
        "        men_k_count += 1\n",
        "\n",
        "# Подсчет женщин с именем на букву k\n",
        "women_k_count = 0\n",
        "for woman in women:\n",
        "    if woman[1].startswith(k.upper()) or woman[1].startswith(k.lower()):\n",
        "        women_k_count += 1\n",
        "\n",
        "# Вывод результатов\n",
        "print(f\"Мужчин: {len(men)}, из них с именем на '{k}': {men_k_count}\")\n",
        "print(f\"Женщин: {len(women)}, из них с именем на '{k}': {women_k_count}\")\n",
        "\n",
        "if men_k_count > women_k_count:\n",
        "    print(f\"Больше имен на '{k}' среди мужчин\")\n",
        "elif women_k_count > men_k_count:\n",
        "    print(f\"Больше имен на '{k}' среди женщин\")\n",
        "else:\n",
        "    print(f\"Одинаковое количество имен на '{k}'\")"
      ],
      "metadata": {
        "colab": {
          "base_uri": "https://localhost:8080/"
        },
        "id": "SbHAGJLZN7im",
        "outputId": "a73be947-f8b8-4f7d-97d9-6ee230b5cbdf"
      },
      "execution_count": 39,
      "outputs": [
        {
          "output_type": "stream",
          "name": "stdout",
          "text": [
            "Введите количество сотрудников: 3\n",
            "Введите данные сотрудника 1 (Фамилия Имя Отчество Пол Стаж): Иванов Иван Иванович М 5\n",
            "Введите данные сотрудника 2 (Фамилия Имя Отчество Пол Стаж): Петров Алексей Семенович М 8\n",
            "Введите данные сотрудника 3 (Фамилия Имя Отчество Пол Стаж): Михалкова Анна Сергеевна Ж 7\n",
            "Самый \"молодой\": Иванов Иван Иванович\n",
            "Самый \"старый\": Петров Алексей Семенович\n",
            "Введите букву k: а\n",
            "Мужчин: 2, из них с именем на 'а': 1\n",
            "Женщин: 1, из них с именем на 'а': 1\n",
            "Одинаковое количество имен на 'а'\n"
          ]
        }
      ]
    },
    {
      "cell_type": "code",
      "source": [
        "# Задание task_01_2_34.\n",
        "#\n",
        "# Выполнил: Губайдуллина А. И.\n",
        "# Группа: АБП-231\n",
        "\n",
        "# 1. Заполнение списка\n",
        "n = int(input(\"Введите количество банков: \"))\n",
        "\n",
        "deposits = []\n",
        "for i in range(n):\n",
        "    data = input(f\"Введите данные банка {i+1} (Банк Сумма Процент): \").split()\n",
        "    # Создаем словарь для каждого банка\n",
        "    bank_data = {\n",
        "        \"name\": data[0],\n",
        "        \"initial_sum\": int(data[1]),\n",
        "        \"rate\": float(data[2])\n",
        "    }\n",
        "    deposits.append(bank_data)\n",
        "\n",
        "# 2. Самый доступный банк (с наименьшей первоначальной суммой)\n",
        "min_sum_bank = min(deposits, key=lambda x: x[\"initial_sum\"])\n",
        "print(f\"Самый доступный банк: {min_sum_bank['name']} (сумма: {min_sum_bank['initial_sum']} руб.)\")\n",
        "\n",
        "# 3. Самый выгодный банк (максимальная прибыль = сумма * процент / 100)\n",
        "max_profit_bank = max(deposits, key=lambda x: x[\"initial_sum\"] * x[\"rate\"] / 100)\n",
        "profit = max_profit_bank[\"initial_sum\"] * max_profit_bank[\"rate\"] / 100\n",
        "print(f\"Самый выгодный банк: {max_profit_bank['name']} (прибыль: {profit:.2f} руб.)\")"
      ],
      "metadata": {
        "colab": {
          "base_uri": "https://localhost:8080/"
        },
        "id": "Xi6RPW1nOtpr",
        "outputId": "07fed360-5eab-410e-9879-54f58e2bcf16"
      },
      "execution_count": 43,
      "outputs": [
        {
          "output_type": "stream",
          "name": "stdout",
          "text": [
            "Введите количество банков: 3\n",
            "Введите данные банка 1 (Банк Сумма Процент): Сбербанк 50000 5.2\n",
            "Введите данные банка 2 (Банк Сумма Процент): ВТБ 60000 7.6\n",
            "Введите данные банка 3 (Банк Сумма Процент): Альфа 30000 3.7\n",
            "Самый доступный банк: Альфа (сумма: 30000 руб.)\n",
            "Самый выгодный банк: ВТБ (прибыль: 4560.00 руб.)\n"
          ]
        }
      ]
    }
  ]
}